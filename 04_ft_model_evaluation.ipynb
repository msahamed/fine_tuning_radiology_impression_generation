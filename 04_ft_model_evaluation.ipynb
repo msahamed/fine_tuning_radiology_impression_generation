{
 "cells": [
  {
   "cell_type": "code",
   "execution_count": 1,
   "id": "07f1f876-00c6-40b1-9979-ad0814079d56",
   "metadata": {},
   "outputs": [],
   "source": [
    "import subprocess\n",
    "import json\n",
    "import torch\n",
    "import numpy as np\n",
    "import pandas as pd\n",
    "from datasets import Dataset, DatasetDict\n",
    "from datasets import load_from_disk\n",
    "from transformers import pipeline, StoppingCriteria\n",
    "\n",
    "from datasets import load_from_disk\n",
    "from transformers import pipeline, StoppingCriteria\n",
    "from peft import AutoPeftModelForCausalLM\n",
    "from transformers import AutoTokenizer\n",
    "import evaluate\n",
    "from collections import defaultdict\n",
    "import json"
   ]
  },
  {
   "cell_type": "code",
   "execution_count": 2,
   "id": "a35b0566-f558-437c-9590-d93696d3d982",
   "metadata": {
    "scrolled": true
   },
   "outputs": [
    {
     "name": "stderr",
     "output_type": "stream",
     "text": [
      "`torch_dtype` is deprecated! Use `dtype` instead!\n"
     ]
    },
    {
     "data": {
      "application/vnd.jupyter.widget-view+json": {
       "model_id": "a05c3fe8b5aa4a3a9481ba00c10c928f",
       "version_major": 2,
       "version_minor": 0
      },
      "text/plain": [
       "Loading checkpoint shards:   0%|          | 0/2 [00:00<?, ?it/s]"
      ]
     },
     "metadata": {},
     "output_type": "display_data"
    }
   ],
   "source": [
    "from peft import AutoPeftModelForCausalLM\n",
    "from transformers import AutoTokenizer\n",
    "\n",
    "ft_model = AutoPeftModelForCausalLM.from_pretrained(\n",
    "    \"./lora_adapter\",\n",
    "    torch_dtype=\"auto\",\n",
    "    device_map=\"auto\"\n",
    ")\n",
    "ft_tokenizer = AutoTokenizer.from_pretrained(\"./lora_adapter\")"
   ]
  },
  {
   "cell_type": "code",
   "execution_count": 3,
   "id": "178d3b78-11ae-40b5-b196-705b6867d1e5",
   "metadata": {},
   "outputs": [],
   "source": [
    "# dataset = load_from_disk(\"./dataset\")\n",
    "processed_data_path = \"./data/processed/radiology_datasets\"\n",
    "dataset = load_from_disk(processed_data_path)"
   ]
  },
  {
   "cell_type": "code",
   "execution_count": 4,
   "id": "24ee729b-d632-4eda-9e29-edd2c0b34e6d",
   "metadata": {},
   "outputs": [
    {
     "data": {
      "text/plain": [
       "DatasetDict({\n",
       "    train: Dataset({\n",
       "        features: ['findings', 'impression', 'text', 'clinic_id', 'modality', 'clinic_modality'],\n",
       "        num_rows: 8865\n",
       "    })\n",
       "    validation: Dataset({\n",
       "        features: ['findings', 'impression', 'text', 'clinic_id', 'modality', 'clinic_modality'],\n",
       "        num_rows: 1901\n",
       "    })\n",
       "    test: Dataset({\n",
       "        features: ['findings', 'impression', 'text', 'clinic_id', 'modality', 'clinic_modality'],\n",
       "        num_rows: 1915\n",
       "    })\n",
       "})"
      ]
     },
     "execution_count": 4,
     "metadata": {},
     "output_type": "execute_result"
    }
   ],
   "source": [
    "dataset"
   ]
  },
  {
   "cell_type": "code",
   "execution_count": 5,
   "id": "1c057c8a-7d93-4cb6-b246-4a65fc516dfc",
   "metadata": {},
   "outputs": [
    {
     "name": "stdout",
     "output_type": "stream",
     "text": [
      "Findings: [CLINIC: clinic_1] [MODALITY: MR] FINDINGS: No abnormality along the sacral plexus presacral. Left sciatic nerve is normal in the greater sciatic foramen to the mid thigh. There is no mass or compression or edema along this nerve. Beginning distal mid thigh axial 36 and 35, there is intense edema of the peroneal branch of the sciatic nerve extending to the inferior margin lateral femoral condyle level left side only. There is no soft tissue mass or cyst along this nerve. No notable edema at the level of the fibular head. There is muscle denervation edema anterior and peroneal muscle compartments of the proximal leg left side only. No abnormality along the tibiofibular joint and specifically no marginating cyst. There is no other muscle denervation edema. The tibial branch of this left sciatic nerve is normal. Remaining muscles are normal. Left hamstring origin is intact with no marginating inflammation. Sacrum and sacroiliac joints are normal. Pubic symphysis has no marginating edema or effusion. Left pubic rami are normal. There is healed fracture with deformity right superior pubic ramus. There is also mild deformity from prior healed fracture of the right inferior pubic ramus. No marginating edema. Left hip joint has no effusion compared to moderate effusion on the right side. No subchondral edema of either hip joint. There is chondral thinning superomedial right notably greater than left hip joint and lateral marginal chondral thinning fissuring overall mild left side. No acute chondral injury or geographic defect. No paralabral cyst. No fluid-filled labral detachment. No intra-articular body or synovial thickening left hip. There is small subcortical cyst anterolateral femoral head neck junction. Tendons about both hip joints are intact with no bursitis or tendinitis. No abnormality along the iliotibial tract. No abnormality along the femoral shafts. No abnormality along the left femoral neurovascular bundle. IMPRESSION:\n",
      "\n",
      "Impressions: 1. Long segment intense neuritis with edema peroneal branch left sciatic nerve beginning distal mid femoral shaft and extending to the knee joint margin. Associated denervation edema anterior and peroneal muscle compartments of the proximal left leg. No mass or cyst or compression along this nerve. No other abnormality along the left sciatic nerve.\n"
     ]
    }
   ],
   "source": [
    "findings = dataset['test'][0]['findings']\n",
    "impression = dataset['test'][0]['impression']\n",
    "\n",
    "print(f\"Findings: {findings}\\n\")\n",
    "print(f\"Impressions: {impression}\")"
   ]
  },
  {
   "cell_type": "code",
   "execution_count": 11,
   "id": "3d75bc42-fcae-4d81-804c-e2ffa9457ff0",
   "metadata": {},
   "outputs": [],
   "source": [
    "def generate_answer(findings):\n",
    "    # https://huggingface.co/microsoft/MediPhi-Instruct\n",
    "    system_message = \"\"\"You are an expert radiologist assistant specializing in generating accurate and concise medical impressions from radiology\n",
    "       findings.\n",
    "    \n",
    "      Your task is to:\n",
    "      1. **Analyze the findings**: Carefully review all clinical findings, history, and technique information\n",
    "      2. **Generate focused impressions**: Create clear, prioritized conclusions that directly address the clinical question\n",
    "      3. **Maintain clinical accuracy**: Ensure all significant findings are appropriately characterized\n",
    "      4. **Use appropriate medical terminology**: Follow standard radiological reporting conventions\n",
    "      5. **Adapt communication style**: Match the institutional reporting style and level of detail expected\n",
    "    \n",
    "      Generate only the IMPRESSION section based on the provided clinical information.\"\"\"\n",
    "    \n",
    "    # Hugging Face pipeline for text generation does apply apply_chat_template under the hood. \n",
    "    # So we do not need to process for the text generation\n",
    "    messages = [\n",
    "        {\"role\": \"system\", \"content\": system_message},\n",
    "        {\"role\": \"user\", \"content\": findings},\n",
    "    ]\n",
    "    \n",
    "    pipe = pipeline(\n",
    "        \"text-generation\",\n",
    "        model=ft_model,\n",
    "        tokenizer=ft_tokenizer,\n",
    "    )\n",
    "    \n",
    "    #  stops generation when the model generates token ID 32007\n",
    "    class EosListStoppingCriteria(StoppingCriteria):\n",
    "      def __init__(self, eos_sequence = [32007]):\n",
    "          self.eos_sequence = eos_sequence\n",
    "    \n",
    "      def __call__(self, input_ids: torch.LongTensor, scores: torch.FloatTensor, **kwargs) -> bool:\n",
    "          last_ids = input_ids[:,-len(self.eos_sequence):].tolist()\n",
    "          return self.eos_sequence in last_ids\n",
    "    \n",
    "    generation_args = {\n",
    "        \"max_new_tokens\": 500,\n",
    "        \"return_full_text\": False,\n",
    "        \"temperature\": 0.0,\n",
    "        \"do_sample\": False,\n",
    "        \"stopping_criteria\": [EosListStoppingCriteria()]\n",
    "    }\n",
    "    output = pipe(messages, **generation_args)\n",
    "    return output"
   ]
  },
  {
   "cell_type": "code",
   "execution_count": 12,
   "id": "313a4456-d247-4e5e-9ffc-6228509d32af",
   "metadata": {},
   "outputs": [],
   "source": [
    "import numpy as np\n",
    "\n",
    "def print_test_result(iterations=10):\n",
    "    for i in range(iterations):\n",
    "        index = np.random.randint(0, len(dataset['test']))\n",
    "        findings = dataset['test'][index]['findings']  # Fixed: was 'impression'\n",
    "        impression = dataset['test'][index]['impression']\n",
    "        \n",
    "        output = generate_answer(findings)\n",
    "        \n",
    "        # Header with test number\n",
    "        print(\"=\" * 80)\n",
    "        print(f\"🧪 TEST {i+1}\")\n",
    "        print(\"=\" * 80)\n",
    "        \n",
    "        # Question section\n",
    "        print(\"\\n🤔 Findings:\")\n",
    "        print(\"-\" * 40)\n",
    "        print(f\"{findings}\")\n",
    "        \n",
    "        # Original answer section\n",
    "        print(\"\\n✅ ORIGINAL IMPRESSIONS:\")\n",
    "        print(\"-\" * 40)\n",
    "        print(f\"{impression}\")\n",
    "        \n",
    "        # AI response section\n",
    "        print(\"\\n🤖 FINE-TUNED AI RESPONSE:\")\n",
    "        print(\"-\" * 40)\n",
    "        print(f\"{output[0]['generated_text']}\")\n",
    "        \n",
    "        # Separator\n",
    "        print(\"\\n\" + \"~\" * 80 + \"\\n\")"
   ]
  },
  {
   "cell_type": "code",
   "execution_count": 14,
   "id": "ca79165a-1108-45c6-8782-c8d2cdbaac81",
   "metadata": {},
   "outputs": [
    {
     "name": "stderr",
     "output_type": "stream",
     "text": [
      "Device set to use cuda:0\n",
      "Device set to use cuda:0\n"
     ]
    },
    {
     "name": "stdout",
     "output_type": "stream",
     "text": [
      "================================================================================\n",
      "🧪 TEST 1\n",
      "================================================================================\n",
      "\n",
      "🤔 Findings:\n",
      "----------------------------------------\n",
      "[CLINIC: clinic_2] [MODALITY: MR] FINDINGS: Diffuse thoracic spondylosis. Exaggerated diffuse kyphosis. Multiple nodular areas of low T1 signal exhibiting mostly increased T2 signal intensity are seen at all imaged vertebral body levels, compatible with osseous metastatic disease. T5, T8 and T9 are most severely involved. There is expansion of the T5 posterior elements, not severe enough to cause neural compromise. Scout images show metastatic involvement in the cervical spine as well. Visualized portions of the spinal cord exhibit normal signal intensity. IMPRESSION:\n",
      "\n",
      "✅ ORIGINAL IMPRESSIONS:\n",
      "----------------------------------------\n",
      "1. Diffuse osseous metastatic disease of the cervical, thoracic, and lumbar spine, not causing spinal/foraminal stenosis or fracture. 2. Spondylosis, kyphosis and multilevel disc bulges, causing spinal stenosis at T12-L1, L1-2, and L2-3. 3. 9 cm multicystic mass in the upper abdomen near or in the liver could represent distended gallbladder. This is incompletely evaluated. Ultrasound would provide additional evaluation if clinically indicated. 4. Right and possibly left renal cysts.\n",
      "\n",
      "🤖 FINE-TUNED AI RESPONSE:\n",
      "----------------------------------------\n",
      " 1. Multiple nodular areas of low T1 signal intensity compatible with osseous metastatic disease.\n",
      "\n",
      "~~~~~~~~~~~~~~~~~~~~~~~~~~~~~~~~~~~~~~~~~~~~~~~~~~~~~~~~~~~~~~~~~~~~~~~~~~~~~~~~\n",
      "\n"
     ]
    },
    {
     "name": "stderr",
     "output_type": "stream",
     "text": [
      "Device set to use cuda:0\n"
     ]
    },
    {
     "name": "stdout",
     "output_type": "stream",
     "text": [
      "================================================================================\n",
      "🧪 TEST 2\n",
      "================================================================================\n",
      "\n",
      "🤔 Findings:\n",
      "----------------------------------------\n",
      "[CLINIC: clinic_1] [MODALITY: MR] FINDINGS: There is a moderate effusion with mild synovial irregularity and thickening suggesting synovitis. There is a small medial popliteal cyst. There is mild quadriceps tendinosis and moderate patellar tendinosis. There is moderate to severe proximal popliteus tendinosis with small adjacent subcortical cysts and mild surrounding bone marrow edema in the lateral femoral condyle. The severity of the popliteus tendinosis is likely due to involvement of the popliteus tendon with gout. There is moderate fatty infiltration and atrophy of the semimembranosus muscle. The cruciate and collateral ligaments appear intact. In the medial compartment there is mild cartilage loss in the inferior medial aspect of the medial femoral condyle and medial aspect of the medial tibial plateau. There is no evidence of a medial meniscal tear. In the lateral compartment the articular cartilage appears intact. There is no evidence of a lateral meniscal tear. In the patellofemoral compartment there is high-grade cartilage loss with underlying subcortical cystic change in the median eminence of the patella and adjacent lateral aspect of the medial patellar facet and inferior central to lateral aspect of the trochlea. IMPRESSION:\n",
      "\n",
      "✅ ORIGINAL IMPRESSIONS:\n",
      "----------------------------------------\n",
      "1. Patellofemoral arthrosis with areas of high-grade cartilage loss as described above. 2. Moderate to severe popliteus tendinosis likely due to involvement of the popliteus tendon with gout. 3. No evidence of a meniscal tear.\n",
      "\n",
      "🤖 FINE-TUNED AI RESPONSE:\n",
      "----------------------------------------\n",
      " 1. Moderate to severe proximal popliteus tendinosis with small adjacent subcortical cysts and mild surrounding bone marrow edema in the lateral femoral condyle. 2. Moderate to severe patellar tendinosis. 3. Mild quadriceps tendinosis. 4. Mild cartilage loss in the medial compartment. 5. High-grade cartilage loss in the patellofemoral compartment.\n",
      "\n",
      "~~~~~~~~~~~~~~~~~~~~~~~~~~~~~~~~~~~~~~~~~~~~~~~~~~~~~~~~~~~~~~~~~~~~~~~~~~~~~~~~\n",
      "\n"
     ]
    },
    {
     "name": "stderr",
     "output_type": "stream",
     "text": [
      "Device set to use cuda:0\n"
     ]
    },
    {
     "name": "stdout",
     "output_type": "stream",
     "text": [
      "================================================================================\n",
      "🧪 TEST 3\n",
      "================================================================================\n",
      "\n",
      "🤔 Findings:\n",
      "----------------------------------------\n",
      "[CLINIC: clinic_6] [MODALITY: CT] FINDINGS: Mild fatty liver infiltration. Diffuse fatty atrophy of the pancreas. The liver, spleen, pancreas, kidneys and adrenals are otherwise within normal limits. The gallbladder is present without intra/extrahepatic biliary dilatation. IMPRESSION:\n",
      "\n",
      "✅ ORIGINAL IMPRESSIONS:\n",
      "----------------------------------------\n",
      "1. Subcutaneous strandy changes ventral abdominal wall especially on the right side, can be seen with postsurgical changes/trocar site. 2. Normal appendix. 3. Mild fatty liver infiltration.\n",
      "\n",
      "🤖 FINE-TUNED AI RESPONSE:\n",
      "----------------------------------------\n",
      " Mild fatty liver infiltration.\n",
      "\n",
      "~~~~~~~~~~~~~~~~~~~~~~~~~~~~~~~~~~~~~~~~~~~~~~~~~~~~~~~~~~~~~~~~~~~~~~~~~~~~~~~~\n",
      "\n"
     ]
    },
    {
     "name": "stderr",
     "output_type": "stream",
     "text": [
      "Device set to use cuda:0\n"
     ]
    },
    {
     "name": "stdout",
     "output_type": "stream",
     "text": [
      "================================================================================\n",
      "🧪 TEST 4\n",
      "================================================================================\n",
      "\n",
      "🤔 Findings:\n",
      "----------------------------------------\n",
      "[CLINIC: clinic_1] [MODALITY: MR] FINDINGS: Comparison is made with prior exam performed on June 4, 2018. There is no interval tear of the medial meniscus. Medial compartment articular surfaces remain well preserved. There is interval degeneration, maceration and tearing of the lateral meniscus body and posterior horn, coronal images 11 and sagittal images 8. There is high-grade cartilage loss and fissuring along the lateral tibial plateau, present on prior study. There is mild chondral softening of the lateral femoral condyle. Cruciate and collateral ligaments are intact. There is no acute ligament injury noted. There is mild distal quadriceps and mild proximal patellar tendinosis. Patellofemoral compartment articular surfaces are preserved. Tibial tubercle trochlear groove distance is normal. There is moderate knee joint effusion, mild synovitis and ruptured popliteal cyst. Edema is noted within the medial head of the gastrocnemius muscle, possible mild strain injury, axial images 19. IMPRESSION:\n",
      "\n",
      "✅ ORIGINAL IMPRESSIONS:\n",
      "----------------------------------------\n",
      "1. Interval degeneration, maceration and tearing of the lateral meniscus body and posterior horn. 2. High-grade cartilage loss and fissuring of the lateral tibial plateau. 3. Edema at the medial head of the gastrocnemius muscle, correlate for mild strain injury. 4. Moderate knee joint effusion, mild synovitis and ruptured popliteal cyst.\n",
      "\n",
      "🤖 FINE-TUNED AI RESPONSE:\n",
      "----------------------------------------\n",
      " 1. Interval degeneration, maceration and tearing of the lateral meniscus body and posterior horn. 2. No interval tear of the medial meniscus. 3. Moderate knee joint effusion, mild synovitis and ruptured popliteal cyst. 4. Mild distal quadriceps and mild proximal patellar tendinosis.\n",
      "\n",
      "~~~~~~~~~~~~~~~~~~~~~~~~~~~~~~~~~~~~~~~~~~~~~~~~~~~~~~~~~~~~~~~~~~~~~~~~~~~~~~~~\n",
      "\n"
     ]
    },
    {
     "name": "stderr",
     "output_type": "stream",
     "text": [
      "Device set to use cuda:0\n"
     ]
    },
    {
     "name": "stdout",
     "output_type": "stream",
     "text": [
      "================================================================================\n",
      "🧪 TEST 5\n",
      "================================================================================\n",
      "\n",
      "🤔 Findings:\n",
      "----------------------------------------\n",
      "[CLINIC: clinic_1] [MODALITY: MR] FINDINGS: Medial meniscus, destabilizing radial tear of the posterior root, with loss of circumferential hoop containment of the meniscus and partial extrusion of body segment from medial joint line, sagittal image 9, coronal image 16. Anterior and posterior cruciate ligament, medial and lateral collateral ligament, ligamentous structures of the posterior lateral corner, iliotibial band, quadriceps and patellar tendons, are within normal limits. Diffuse grade 3-4 chondral loss medial femoral-tibial compartment, more prominent on the femoral side of the articulation, sagittal image 7, coronal image 13. Grade 2 chondral loss lateral tibial plateau adjacent to the intraspinous region of the tibia, coronal image 14-15. Diffuse grade 4 chondral loss median patellar ridge extending onto medial and lateral facet of patella, axial image 9. Grade 4 chondral loss medial trochlear ridge, axial image 12 No significant marrow infiltration, stress response, or insufficiency lesion. Physiologic joint fluid with infrapatellar plica, sagittal image 13. 27 x 20 x 6 mm septated synovial cyst superficial to the proximal aspect of the posterolateral capsule overlying the lateral femoral condyle, length, transverse, and thickness, sagittal image 15, axial image 11. IMPRESSION:\n",
      "\n",
      "✅ ORIGINAL IMPRESSIONS:\n",
      "----------------------------------------\n",
      "1. Medial meniscus, destabilizing radial tear of the posterior root. 2. Tricompartmental arthrosis. Diffuse grade 3-4 chondral loss medial femoral-tibial compartment, more prominent on the femoral side of the articulation. Grade 4 chondral loss patella-femoral compartment. Grade 2 chondral loss lateral tibial plateau adjacent to the intraspinous region the tibia. 3. 27 x 20 x 6 mm septated synovial cyst superficial to the proximal aspect of the posterolateral capsule overlying lateral femoral condyle.\n",
      "\n",
      "🤖 FINE-TUNED AI RESPONSE:\n",
      "----------------------------------------\n",
      " 1. Medial meniscus, destabilizing radial tear of the posterior root with loss of circumferential hoop containment of the meniscus and partial extrusion of body segment from medial joint line. 2. Bicompartmental arthrosis. Diffuse grade 3-4 chondral loss medial femoral-tibial compartment, more prominent on the femoral side of the articulation. Grade 2 chondral loss lateral tibial plateau adjacent to the intraspinous region of the tibia. Grade 4 chondral loss median patellar ridge extending onto medial and lateral facet of patella. Grade 4 chondral loss medial trochlear ridge. 3. 27 x 20 x 6 mm septated synovial cyst superficial to the proximal aspect of the posterolateral capsule overlying the lateral femoral condyle.\n",
      "\n",
      "~~~~~~~~~~~~~~~~~~~~~~~~~~~~~~~~~~~~~~~~~~~~~~~~~~~~~~~~~~~~~~~~~~~~~~~~~~~~~~~~\n",
      "\n"
     ]
    },
    {
     "name": "stderr",
     "output_type": "stream",
     "text": [
      "Device set to use cuda:0\n"
     ]
    },
    {
     "name": "stdout",
     "output_type": "stream",
     "text": [
      "================================================================================\n",
      "🧪 TEST 6\n",
      "================================================================================\n",
      "\n",
      "🤔 Findings:\n",
      "----------------------------------------\n",
      "[CLINIC: clinic_1] [MODALITY: CR] FINDINGS: There is varus alignment. There is bone-on-bone arthropathy in the medial compartment with large marginal osteophytes. There is bone-on-bone arthropathy with marginal osteophytes in the patellofemoral compartment. Lateral compartment joint spaces well preserved. IMPRESSION:\n",
      "\n",
      "✅ ORIGINAL IMPRESSIONS:\n",
      "----------------------------------------\n",
      "1. Advanced medial and patellofemoral compartment arthrosis with varus alignment.\n",
      "\n",
      "🤖 FINE-TUNED AI RESPONSE:\n",
      "----------------------------------------\n",
      " Osteoarthritis with bone-on-bone arthropathy in the medial and patellofemoral compartments.\n",
      "\n",
      "~~~~~~~~~~~~~~~~~~~~~~~~~~~~~~~~~~~~~~~~~~~~~~~~~~~~~~~~~~~~~~~~~~~~~~~~~~~~~~~~\n",
      "\n"
     ]
    },
    {
     "name": "stderr",
     "output_type": "stream",
     "text": [
      "Device set to use cuda:0\n"
     ]
    },
    {
     "name": "stdout",
     "output_type": "stream",
     "text": [
      "================================================================================\n",
      "🧪 TEST 7\n",
      "================================================================================\n",
      "\n",
      "🤔 Findings:\n",
      "----------------------------------------\n",
      "[CLINIC: clinic_5] [MODALITY: CR] FINDINGS: No fracture, dislocation or erosion. Normal joint spaces. There are small osteophytes. There are some chronic opacification of the quadriceps insertion. IMPRESSION:\n",
      "\n",
      "✅ ORIGINAL IMPRESSIONS:\n",
      "----------------------------------------\n",
      "No acute findings. Mild OA. Signed on 08/13/2021 12:59 PM by Mark E 42edd445 c42e7b65\n",
      "\n",
      "🤖 FINE-TUNED AI RESPONSE:\n",
      "----------------------------------------\n",
      " No acute findings\n",
      "\n",
      "~~~~~~~~~~~~~~~~~~~~~~~~~~~~~~~~~~~~~~~~~~~~~~~~~~~~~~~~~~~~~~~~~~~~~~~~~~~~~~~~\n",
      "\n"
     ]
    },
    {
     "name": "stderr",
     "output_type": "stream",
     "text": [
      "Device set to use cuda:0\n"
     ]
    },
    {
     "name": "stdout",
     "output_type": "stream",
     "text": [
      "================================================================================\n",
      "🧪 TEST 8\n",
      "================================================================================\n",
      "\n",
      "🤔 Findings:\n",
      "----------------------------------------\n",
      "[CLINIC: clinic_1] [MODALITY: MR] FINDINGS: Trace physiologic knee joint fluid is present. There is a thin shelf-like medial plica. The medial meniscus and medial compartment cartilage are intact. The lateral meniscus and lateral compartment cartilage are intact. There are areas of edema-like signal of the anterior aspect of the medial and lateral tibial plateaus. Clinically correlate for bone contusion and history of trauma. The iliotibial band is intact. The patellofemoral joint space cartilage is intact. The extensor mechanism is intact. IMPRESSION:\n",
      "\n",
      "✅ ORIGINAL IMPRESSIONS:\n",
      "----------------------------------------\n",
      "1. Areas of edema-like signal anterior aspect of the medial and lateral tibial plateaus. Clinically correlate for bone contusion and history of trauma. 2. No evidence of meniscus or ligament tear. Intact chondral surfaces.\n",
      "\n",
      "🤖 FINE-TUNED AI RESPONSE:\n",
      "----------------------------------------\n",
      " 1. Areas of edema-like signal of the anterior aspect of the medial and lateral tibial plateaus. Clinically correlate for bone contusion and history of trauma.\n",
      "\n",
      "~~~~~~~~~~~~~~~~~~~~~~~~~~~~~~~~~~~~~~~~~~~~~~~~~~~~~~~~~~~~~~~~~~~~~~~~~~~~~~~~\n",
      "\n"
     ]
    },
    {
     "name": "stderr",
     "output_type": "stream",
     "text": [
      "Device set to use cuda:0\n"
     ]
    },
    {
     "name": "stdout",
     "output_type": "stream",
     "text": [
      "================================================================================\n",
      "🧪 TEST 9\n",
      "================================================================================\n",
      "\n",
      "🤔 Findings:\n",
      "----------------------------------------\n",
      "[CLINIC: nan] [MODALITY: nan] FINDINGS: No fracture or dislocation is noted. Mild medial joint space narrowing is noted. A suprapatellar spur is noted. No destructive osseous lesions noted. No joint effusion is noted. IMPRESSION:\n",
      "\n",
      "✅ ORIGINAL IMPRESSIONS:\n",
      "----------------------------------------\n",
      "No fracture or dislocation. Mild arthritic change as described above.\n",
      "\n",
      "🤖 FINE-TUNED AI RESPONSE:\n",
      "----------------------------------------\n",
      " No fracture or dislocation is noted.\n",
      "\n",
      "~~~~~~~~~~~~~~~~~~~~~~~~~~~~~~~~~~~~~~~~~~~~~~~~~~~~~~~~~~~~~~~~~~~~~~~~~~~~~~~~\n",
      "\n",
      "================================================================================\n",
      "🧪 TEST 10\n",
      "================================================================================\n",
      "\n",
      "🤔 Findings:\n",
      "----------------------------------------\n",
      "[CLINIC: clinic_1] [MODALITY: MR] FINDINGS: There is a small knee joint effusion. There is a trace ruptured popliteal cyst extending superiorly. There is a horizontal tear of the posterior horn and body segment medial meniscus extending to the meniscal free edge and tibial articular surface. There is a very small displaced meniscal flap anterior to the free edge of the posterior horn extending along the medial aspect of the central tibial spine (coronal image #18, axial image #18). The medial compartment cartilage is intact. There is mild intrasubstance degeneration of the lateral meniscal body. The lateral compartment cartilage is intact. The cruciate and lateral collateral ligaments are intact. There is mild scarring of the proximal fibers medial collateral ligament. The iliotibial band is intact. The patellofemoral joint space cartilage is intact. There is normal patellofemoral alignment. There is mild edema of the superolateral aspect of a86c0b46 05fb79e2's fat pad. Clinically correlate for dynamic lateral patellar tracking abnormality. The extensor mechanism is intact. There are serpentine venous varices within the subcutaneous fat along the medial aspect of the knee joint. IMPRESSION:\n",
      "\n",
      "✅ ORIGINAL IMPRESSIONS:\n",
      "----------------------------------------\n",
      "1. Horizontal tear posterior horn and body segment medial meniscus. Very small displaced meniscal flap anterior to the free edge of the posterior horn extending along the medial aspect of the central tibial spine. 2. Mild intrasubstance degeneration lateral meniscal body. 3. Mild scarring proximal fibers medial collateral ligament. 4. Normal patellofemoral alignment. Mild edema of the superolateral aspect of a86c0b46 05fb79e2's fat pad. Clinically correlate for dynamic lateral patellar tracking abnormality. 5. Small knee joint effusion with a trace ruptured popliteal cyst extending superiorly.\n",
      "\n",
      "🤖 FINE-TUNED AI RESPONSE:\n",
      "----------------------------------------\n",
      " 1. Horizontal tear posterior horn and body segment medial meniscus. Very small displaced meniscal flap anterior to the free edge of the posterior horn extending along the medial aspect of the central tibial spine. 2. Mild intrasubstance degeneration lateral meniscal body. 3. Mild scarring proximal fibers medial collateral ligament. 4. Small knee joint effusion with a trace ruptured popliteal cyst.\n",
      "\n",
      "~~~~~~~~~~~~~~~~~~~~~~~~~~~~~~~~~~~~~~~~~~~~~~~~~~~~~~~~~~~~~~~~~~~~~~~~~~~~~~~~\n",
      "\n"
     ]
    }
   ],
   "source": [
    "print_test_result(iterations = 10)"
   ]
  },
  {
   "cell_type": "markdown",
   "id": "cfea3eef-b4af-439b-a1c7-74ad13d99716",
   "metadata": {},
   "source": [
    "### Modality evaluation"
   ]
  },
  {
   "cell_type": "code",
   "execution_count": 3,
   "id": "6b2c2760-881a-46e9-8fe5-ebf7dd155dd3",
   "metadata": {},
   "outputs": [],
   "source": [
    "class ModalityBasedEvaluator:\n",
    "    def __init__(self, model_path=\"./lora_adapter\", dataset_path=\"./data/processed/radiology_datasets\"):\n",
    "        \"\"\"Initialize the systematic evaluator\"\"\"\n",
    "        self.load_model(model_path)\n",
    "        self.load_dataset(dataset_path)\n",
    "        self.results = defaultdict(list)\n",
    "\n",
    "    def load_model(self, model_path):\n",
    "        \"\"\"Load fine-tuned model\"\"\"\n",
    "        print(\"Loading fine-tuned model...\")\n",
    "        self.ft_model = AutoPeftModelForCausalLM.from_pretrained(\n",
    "            model_path,\n",
    "            torch_dtype=\"auto\",\n",
    "            device_map=\"auto\"\n",
    "        )\n",
    "        self.ft_tokenizer = AutoTokenizer.from_pretrained(model_path)\n",
    "\n",
    "    def load_dataset(self, dataset_path):\n",
    "        \"\"\"Load evaluation dataset\"\"\"\n",
    "        print(\"Loading dataset...\")\n",
    "        self.dataset = load_from_disk(dataset_path)\n",
    "        self.test_data = self.dataset['test']\n",
    "\n",
    "        # Convert to pandas for easier analysis\n",
    "        self.test_df = pd.DataFrame(self.test_data)\n",
    "\n",
    "        print(f\"Test dataset: {len(self.test_df)} samples\")\n",
    "        print(f\"Modalities: {self.test_df['modality'].unique()}\")\n",
    "        print(f\"Clinics: {self.test_df['clinic_id'].unique()}\")\n",
    "\n",
    "    def get_modality_distribution(self):\n",
    "        \"\"\"Analyze modality distribution in test set\"\"\"\n",
    "        modality_stats = self.test_df.groupby('modality').agg({\n",
    "            'findings': 'count',\n",
    "            'clinic_id': 'nunique'\n",
    "        }).rename(columns={'findings': 'sample_count', 'clinic_id': 'clinic_count'})\n",
    "\n",
    "        return modality_stats\n",
    "\n",
    "    def generate_impression(self, findings):\n",
    "        \"\"\"Generate impression for given findings\"\"\"\n",
    "        system_message = \"\"\"You are an expert radiologist assistant specializing in generating accurate and concise medical impressions from radiology findings.\n",
    "\n",
    "        Your task is to:\n",
    "        1. **Analyze the findings**: Carefully review all clinical findings\n",
    "        2. **Generate focused impressions**: Create clear, prioritized conclusions\n",
    "        3. **Maintain clinical accuracy**: Ensure all significant findings are characterized\n",
    "        4. **Use appropriate medical terminology**: Follow standard radiological conventions\n",
    "\n",
    "        Generate only the IMPRESSION section based on the provided clinical information.\"\"\"\n",
    "\n",
    "        messages = [\n",
    "            {\"role\": \"system\", \"content\": system_message},\n",
    "            {\"role\": \"user\", \"content\": findings},\n",
    "        ]\n",
    "\n",
    "        pipe = pipeline(\n",
    "            \"text-generation\",\n",
    "            model=self.ft_model,\n",
    "            tokenizer=self.ft_tokenizer,\n",
    "        )\n",
    "\n",
    "        class EosListStoppingCriteria(StoppingCriteria):\n",
    "            def __init__(self, eos_sequence=[32007]):\n",
    "                self.eos_sequence = eos_sequence\n",
    "\n",
    "            def __call__(self, input_ids: torch.LongTensor, scores: torch.FloatTensor, **kwargs) -> bool:\n",
    "                last_ids = input_ids[:, -len(self.eos_sequence):].tolist()\n",
    "                return self.eos_sequence in last_ids\n",
    "\n",
    "        generation_args = {\n",
    "            \"max_new_tokens\": 300,\n",
    "            \"return_full_text\": False,\n",
    "            \"temperature\": 0.0,\n",
    "            \"do_sample\": False,\n",
    "            \"stopping_criteria\": [EosListStoppingCriteria()]\n",
    "        }\n",
    "\n",
    "        output = pipe(messages, **generation_args)\n",
    "        return output[0]['generated_text'].strip()\n",
    "\n",
    "    def evaluate_sample(self, idx):\n",
    "        \"\"\"Evaluate single sample\"\"\"\n",
    "        # Convert numpy int64 to Python int\n",
    "        idx = int(idx)\n",
    "        sample = self.test_data[idx]\n",
    "\n",
    "        findings = sample['findings']\n",
    "        reference = sample['impression']\n",
    "        modality = sample['modality']\n",
    "        clinic_id = sample['clinic_id']\n",
    "\n",
    "        # Generate prediction\n",
    "        prediction = self.generate_impression(findings)\n",
    "\n",
    "        # Compute ROUGE scores\n",
    "        rouge = evaluate.load(\"rouge\")\n",
    "        rouge_scores = rouge.compute(\n",
    "            predictions=[prediction],\n",
    "            references=[reference],\n",
    "            rouge_types=[\"rouge1\", \"rouge2\", \"rougeL\"]\n",
    "        )\n",
    "\n",
    "        return {\n",
    "            'sample_idx': idx,\n",
    "            'modality': modality,\n",
    "            'clinic_id': clinic_id,\n",
    "            'findings': findings,\n",
    "            'reference': reference,\n",
    "            'prediction': prediction,\n",
    "            'rouge1': rouge_scores['rouge1'],\n",
    "            'rouge2': rouge_scores['rouge2'],\n",
    "            'rougeL': rouge_scores['rougeL'],\n",
    "            'findings_length': len(findings),\n",
    "            'reference_length': len(reference),\n",
    "            'prediction_length': len(prediction)\n",
    "        }\n",
    "\n",
    "    def evaluate_by_modality(self, samples_per_modality=10, random_seed=42):\n",
    "        \"\"\"Systematic evaluation across all modalities\"\"\"\n",
    "        np.random.seed(random_seed)\n",
    "\n",
    "        modality_results = {}\n",
    "\n",
    "        for modality in self.test_df['modality'].unique():\n",
    "            print(f\"\\n🔬 Evaluating modality: {modality}\")\n",
    "\n",
    "            # Get samples for this modality\n",
    "            modality_samples = self.test_df[self.test_df['modality'] == modality]\n",
    "\n",
    "            # Sample random subset\n",
    "            n_samples = min(samples_per_modality, len(modality_samples))\n",
    "            # Get the actual dataset indices (not DataFrame indices)\n",
    "            available_indices = list(range(len(self.test_df)))\n",
    "            modality_indices = [i for i in available_indices if self.test_df.iloc[i]['modality'] == modality]\n",
    "\n",
    "            sampled_indices = np.random.choice(\n",
    "                modality_indices,\n",
    "                size=n_samples,\n",
    "                replace=False\n",
    "            )\n",
    "\n",
    "            modality_results[modality] = []\n",
    "\n",
    "            for i, idx in enumerate(sampled_indices):\n",
    "                print(f\"  Processing sample {i+1}/{n_samples}...\")\n",
    "                result = self.evaluate_sample(idx)\n",
    "                modality_results[modality].append(result)\n",
    "\n",
    "        return modality_results\n",
    "\n",
    "    def evaluate_by_clinic_modality(self, samples_per_combination=5):\n",
    "        \"\"\"Evaluate by clinic-modality combinations\"\"\"\n",
    "        np.random.seed(42)\n",
    "\n",
    "        combination_results = {}\n",
    "\n",
    "        for combo in self.test_df['clinic_modality'].unique():\n",
    "            print(f\"\\n🏥 Evaluating combination: {combo}\")\n",
    "\n",
    "            combo_samples = self.test_df[self.test_df['clinic_modality'] == combo]\n",
    "\n",
    "            n_samples = min(samples_per_combination, len(combo_samples))\n",
    "            if n_samples == 0:\n",
    "                continue\n",
    "\n",
    "            # Get actual dataset indices for this combination\n",
    "            combo_indices = [i for i in range(len(self.test_df)) if self.test_df.iloc[i]['clinic_modality'] == combo]\n",
    "\n",
    "            sampled_indices = np.random.choice(\n",
    "                combo_indices,\n",
    "                size=n_samples,\n",
    "                replace=False\n",
    "            )\n",
    "\n",
    "            combination_results[combo] = []\n",
    "\n",
    "            for i, idx in enumerate(sampled_indices):\n",
    "                print(f\"  Processing sample {i+1}/{n_samples}...\")\n",
    "                result = self.evaluate_sample(idx)\n",
    "                combination_results[combo].append(result)\n",
    "\n",
    "        return combination_results\n",
    "\n",
    "    def compute_aggregate_metrics(self, results):\n",
    "        \"\"\"Compute aggregate metrics from evaluation results\"\"\"\n",
    "        aggregated = {}\n",
    "\n",
    "        for category, samples in results.items():\n",
    "            if not samples:\n",
    "                continue\n",
    "\n",
    "            metrics = {\n",
    "                'sample_count': len(samples),\n",
    "                'rouge1_mean': np.mean([s['rouge1'] for s in samples]),\n",
    "                'rouge1_std': np.std([s['rouge1'] for s in samples]),\n",
    "                'rouge2_mean': np.mean([s['rouge2'] for s in samples]),\n",
    "                'rouge2_std': np.std([s['rouge2'] for s in samples]),\n",
    "                'rougeL_mean': np.mean([s['rougeL'] for s in samples]),\n",
    "                'rougeL_std': np.std([s['rougeL'] for s in samples]),\n",
    "                'avg_findings_length': np.mean([s['findings_length'] for s in samples]),\n",
    "                'avg_reference_length': np.mean([s['reference_length'] for s in samples]),\n",
    "                'avg_prediction_length': np.mean([s['prediction_length'] for s in samples])\n",
    "            }\n",
    "\n",
    "            aggregated[category] = metrics\n",
    "\n",
    "        return aggregated\n",
    "\n",
    "    def generate_evaluation_report(self, modality_results, combination_results=None):\n",
    "        \"\"\"Generate comprehensive evaluation report\"\"\"\n",
    "\n",
    "        print(\"\\n\" + \"=\"*80)\n",
    "        print(\"📊 SYSTEMATIC EVALUATION REPORT\")\n",
    "        print(\"=\"*80)\n",
    "\n",
    "        # Modality-based metrics\n",
    "        modality_metrics = self.compute_aggregate_metrics(modality_results)\n",
    "\n",
    "        print(\"\\n🔬 MODALITY-BASED PERFORMANCE\")\n",
    "        print(\"-\" * 50)\n",
    "\n",
    "        modality_df = pd.DataFrame(modality_metrics).T\n",
    "        modality_df = modality_df.round(4)\n",
    "        print(modality_df[['sample_count', 'rouge1_mean', 'rouge2_mean', 'rougeL_mean']])\n",
    "\n",
    "        # Overall performance\n",
    "        all_samples = []\n",
    "        for samples in modality_results.values():\n",
    "            all_samples.extend(samples)\n",
    "\n",
    "        overall_metrics = {\n",
    "            'total_samples': len(all_samples),\n",
    "            'overall_rouge1': np.mean([s['rouge1'] for s in all_samples]),\n",
    "            'overall_rouge2': np.mean([s['rouge2'] for s in all_samples]),\n",
    "            'overall_rougeL': np.mean([s['rougeL'] for s in all_samples])\n",
    "        }\n",
    "\n",
    "        print(f\"\\n📈 OVERALL PERFORMANCE\")\n",
    "        print(\"-\" * 30)\n",
    "        print(f\"Total samples evaluated: {overall_metrics['total_samples']}\")\n",
    "        print(f\"Average ROUGE-1: {overall_metrics['overall_rouge1']:.4f}\")\n",
    "        print(f\"Average ROUGE-2: {overall_metrics['overall_rouge2']:.4f}\")\n",
    "        print(f\"Average ROUGE-L: {overall_metrics['overall_rougeL']:.4f}\")\n",
    "\n",
    "        # Best and worst performing modalities\n",
    "        rouge1_by_modality = {mod: metrics['rouge1_mean'] for mod, metrics in modality_metrics.items()}\n",
    "        best_modality = max(rouge1_by_modality, key=rouge1_by_modality.get)\n",
    "        worst_modality = min(rouge1_by_modality, key=rouge1_by_modality.get)\n",
    "\n",
    "        print(f\"\\n🏆 Best performing modality: {best_modality} (ROUGE-1: {rouge1_by_modality[best_modality]:.4f})\")\n",
    "        print(f\"⚠️  Lowest performing modality: {worst_modality} (ROUGE-1: {rouge1_by_modality[worst_modality]:.4f})\")\n",
    "\n",
    "        return {\n",
    "            'modality_metrics': modality_metrics,\n",
    "            'overall_metrics': overall_metrics,\n",
    "            'detailed_results': modality_results\n",
    "        }\n",
    "\n",
    "    def save_results(self, results, filename=\"systematic_evaluation_results.json\"):\n",
    "        \"\"\"Save evaluation results to file\"\"\"\n",
    "        with open(filename, 'w') as f:\n",
    "            json.dump(results, f, indent=2)\n",
    "        print(f\"\\n💾 Results saved to {filename}\")\n"
   ]
  },
  {
   "cell_type": "code",
   "execution_count": 4,
   "id": "9f180a7d-5332-4208-9a1f-e56ce0495d46",
   "metadata": {},
   "outputs": [
    {
     "name": "stdout",
     "output_type": "stream",
     "text": [
      "Loading fine-tuned model...\n"
     ]
    },
    {
     "data": {
      "application/vnd.jupyter.widget-view+json": {
       "model_id": "b1f473f2c3be45cd9309d06b272d3cdc",
       "version_major": 2,
       "version_minor": 0
      },
      "text/plain": [
       "Loading checkpoint shards:   0%|          | 0/2 [00:00<?, ?it/s]"
      ]
     },
     "metadata": {},
     "output_type": "display_data"
    },
    {
     "name": "stdout",
     "output_type": "stream",
     "text": [
      "Loading dataset...\n"
     ]
    },
    {
     "name": "stderr",
     "output_type": "stream",
     "text": [
      "Device set to use cuda:0\n",
      "The following generation flags are not valid and may be ignored: ['temperature']. Set `TRANSFORMERS_VERBOSITY=info` for more details.\n"
     ]
    },
    {
     "name": "stdout",
     "output_type": "stream",
     "text": [
      "Test dataset: 1915 samples\n",
      "Modalities: ['MR' 'CT' 'XR' 'CR' 'US' 'NM' 'nan' 'OTHER']\n",
      "Clinics: ['clinic_1' 'clinic_3' 'clinic_6' 'clinic_5' 'clinic_4' 'clinic_2' 'nan']\n",
      "\n",
      "📊 Dataset Distribution:\n",
      "          sample_count  clinic_count\n",
      "modality                            \n",
      "CR                 214             4\n",
      "CT                 243             6\n",
      "MR                1194             6\n",
      "NM                  16             3\n",
      "OTHER                2             2\n",
      "US                  38             4\n",
      "XR                 104             2\n",
      "nan                104             1\n",
      "\n",
      "🚀 Starting systematic evaluation...\n",
      "\n",
      "🔬 Evaluating modality: MR\n",
      "  Processing sample 1/20...\n"
     ]
    },
    {
     "name": "stderr",
     "output_type": "stream",
     "text": [
      "Device set to use cuda:0\n"
     ]
    },
    {
     "name": "stdout",
     "output_type": "stream",
     "text": [
      "  Processing sample 2/20...\n"
     ]
    },
    {
     "name": "stderr",
     "output_type": "stream",
     "text": [
      "Device set to use cuda:0\n"
     ]
    },
    {
     "name": "stdout",
     "output_type": "stream",
     "text": [
      "  Processing sample 3/20...\n"
     ]
    },
    {
     "name": "stderr",
     "output_type": "stream",
     "text": [
      "Device set to use cuda:0\n"
     ]
    },
    {
     "name": "stdout",
     "output_type": "stream",
     "text": [
      "  Processing sample 4/20...\n"
     ]
    },
    {
     "name": "stderr",
     "output_type": "stream",
     "text": [
      "Device set to use cuda:0\n"
     ]
    },
    {
     "name": "stdout",
     "output_type": "stream",
     "text": [
      "  Processing sample 5/20...\n"
     ]
    },
    {
     "name": "stderr",
     "output_type": "stream",
     "text": [
      "Device set to use cuda:0\n"
     ]
    },
    {
     "name": "stdout",
     "output_type": "stream",
     "text": [
      "  Processing sample 6/20...\n"
     ]
    },
    {
     "name": "stderr",
     "output_type": "stream",
     "text": [
      "Device set to use cuda:0\n"
     ]
    },
    {
     "name": "stdout",
     "output_type": "stream",
     "text": [
      "  Processing sample 7/20...\n"
     ]
    },
    {
     "name": "stderr",
     "output_type": "stream",
     "text": [
      "Device set to use cuda:0\n"
     ]
    },
    {
     "name": "stdout",
     "output_type": "stream",
     "text": [
      "  Processing sample 8/20...\n"
     ]
    },
    {
     "name": "stderr",
     "output_type": "stream",
     "text": [
      "Device set to use cuda:0\n"
     ]
    },
    {
     "name": "stdout",
     "output_type": "stream",
     "text": [
      "  Processing sample 9/20...\n"
     ]
    },
    {
     "name": "stderr",
     "output_type": "stream",
     "text": [
      "Device set to use cuda:0\n"
     ]
    },
    {
     "name": "stdout",
     "output_type": "stream",
     "text": [
      "  Processing sample 10/20...\n"
     ]
    },
    {
     "name": "stderr",
     "output_type": "stream",
     "text": [
      "Device set to use cuda:0\n"
     ]
    },
    {
     "name": "stdout",
     "output_type": "stream",
     "text": [
      "  Processing sample 11/20...\n"
     ]
    },
    {
     "name": "stderr",
     "output_type": "stream",
     "text": [
      "Device set to use cuda:0\n"
     ]
    },
    {
     "name": "stdout",
     "output_type": "stream",
     "text": [
      "  Processing sample 12/20...\n"
     ]
    },
    {
     "name": "stderr",
     "output_type": "stream",
     "text": [
      "Device set to use cuda:0\n"
     ]
    },
    {
     "name": "stdout",
     "output_type": "stream",
     "text": [
      "  Processing sample 13/20...\n"
     ]
    },
    {
     "name": "stderr",
     "output_type": "stream",
     "text": [
      "Device set to use cuda:0\n"
     ]
    },
    {
     "name": "stdout",
     "output_type": "stream",
     "text": [
      "  Processing sample 14/20...\n"
     ]
    },
    {
     "name": "stderr",
     "output_type": "stream",
     "text": [
      "Device set to use cuda:0\n"
     ]
    },
    {
     "name": "stdout",
     "output_type": "stream",
     "text": [
      "  Processing sample 15/20...\n"
     ]
    },
    {
     "name": "stderr",
     "output_type": "stream",
     "text": [
      "Device set to use cuda:0\n"
     ]
    },
    {
     "name": "stdout",
     "output_type": "stream",
     "text": [
      "  Processing sample 16/20...\n"
     ]
    },
    {
     "name": "stderr",
     "output_type": "stream",
     "text": [
      "Device set to use cuda:0\n"
     ]
    },
    {
     "name": "stdout",
     "output_type": "stream",
     "text": [
      "  Processing sample 17/20...\n"
     ]
    },
    {
     "name": "stderr",
     "output_type": "stream",
     "text": [
      "Device set to use cuda:0\n"
     ]
    },
    {
     "name": "stdout",
     "output_type": "stream",
     "text": [
      "  Processing sample 18/20...\n"
     ]
    },
    {
     "name": "stderr",
     "output_type": "stream",
     "text": [
      "Device set to use cuda:0\n"
     ]
    },
    {
     "name": "stdout",
     "output_type": "stream",
     "text": [
      "  Processing sample 19/20...\n"
     ]
    },
    {
     "name": "stderr",
     "output_type": "stream",
     "text": [
      "Device set to use cuda:0\n"
     ]
    },
    {
     "name": "stdout",
     "output_type": "stream",
     "text": [
      "  Processing sample 20/20...\n"
     ]
    },
    {
     "name": "stderr",
     "output_type": "stream",
     "text": [
      "Device set to use cuda:0\n"
     ]
    },
    {
     "name": "stdout",
     "output_type": "stream",
     "text": [
      "\n",
      "🔬 Evaluating modality: CT\n",
      "  Processing sample 1/20...\n"
     ]
    },
    {
     "name": "stderr",
     "output_type": "stream",
     "text": [
      "Device set to use cuda:0\n"
     ]
    },
    {
     "name": "stdout",
     "output_type": "stream",
     "text": [
      "  Processing sample 2/20...\n"
     ]
    },
    {
     "name": "stderr",
     "output_type": "stream",
     "text": [
      "Device set to use cuda:0\n"
     ]
    },
    {
     "name": "stdout",
     "output_type": "stream",
     "text": [
      "  Processing sample 3/20...\n"
     ]
    },
    {
     "name": "stderr",
     "output_type": "stream",
     "text": [
      "Device set to use cuda:0\n"
     ]
    },
    {
     "name": "stdout",
     "output_type": "stream",
     "text": [
      "  Processing sample 4/20...\n"
     ]
    },
    {
     "name": "stderr",
     "output_type": "stream",
     "text": [
      "Device set to use cuda:0\n"
     ]
    },
    {
     "name": "stdout",
     "output_type": "stream",
     "text": [
      "  Processing sample 5/20...\n"
     ]
    },
    {
     "name": "stderr",
     "output_type": "stream",
     "text": [
      "Device set to use cuda:0\n"
     ]
    },
    {
     "name": "stdout",
     "output_type": "stream",
     "text": [
      "  Processing sample 6/20...\n"
     ]
    },
    {
     "name": "stderr",
     "output_type": "stream",
     "text": [
      "Device set to use cuda:0\n"
     ]
    },
    {
     "name": "stdout",
     "output_type": "stream",
     "text": [
      "  Processing sample 7/20...\n"
     ]
    },
    {
     "name": "stderr",
     "output_type": "stream",
     "text": [
      "Device set to use cuda:0\n"
     ]
    },
    {
     "name": "stdout",
     "output_type": "stream",
     "text": [
      "  Processing sample 8/20...\n"
     ]
    },
    {
     "name": "stderr",
     "output_type": "stream",
     "text": [
      "Device set to use cuda:0\n"
     ]
    },
    {
     "name": "stdout",
     "output_type": "stream",
     "text": [
      "  Processing sample 9/20...\n"
     ]
    },
    {
     "name": "stderr",
     "output_type": "stream",
     "text": [
      "Device set to use cuda:0\n"
     ]
    },
    {
     "name": "stdout",
     "output_type": "stream",
     "text": [
      "  Processing sample 10/20...\n"
     ]
    },
    {
     "name": "stderr",
     "output_type": "stream",
     "text": [
      "Device set to use cuda:0\n"
     ]
    },
    {
     "name": "stdout",
     "output_type": "stream",
     "text": [
      "  Processing sample 11/20...\n"
     ]
    },
    {
     "name": "stderr",
     "output_type": "stream",
     "text": [
      "Device set to use cuda:0\n"
     ]
    },
    {
     "name": "stdout",
     "output_type": "stream",
     "text": [
      "  Processing sample 12/20...\n"
     ]
    },
    {
     "name": "stderr",
     "output_type": "stream",
     "text": [
      "Device set to use cuda:0\n"
     ]
    },
    {
     "name": "stdout",
     "output_type": "stream",
     "text": [
      "  Processing sample 13/20...\n"
     ]
    },
    {
     "name": "stderr",
     "output_type": "stream",
     "text": [
      "Device set to use cuda:0\n"
     ]
    },
    {
     "name": "stdout",
     "output_type": "stream",
     "text": [
      "  Processing sample 14/20...\n"
     ]
    },
    {
     "name": "stderr",
     "output_type": "stream",
     "text": [
      "Device set to use cuda:0\n"
     ]
    },
    {
     "name": "stdout",
     "output_type": "stream",
     "text": [
      "  Processing sample 15/20...\n"
     ]
    },
    {
     "name": "stderr",
     "output_type": "stream",
     "text": [
      "Device set to use cuda:0\n"
     ]
    },
    {
     "name": "stdout",
     "output_type": "stream",
     "text": [
      "  Processing sample 16/20...\n"
     ]
    },
    {
     "name": "stderr",
     "output_type": "stream",
     "text": [
      "Device set to use cuda:0\n"
     ]
    },
    {
     "name": "stdout",
     "output_type": "stream",
     "text": [
      "  Processing sample 17/20...\n"
     ]
    },
    {
     "name": "stderr",
     "output_type": "stream",
     "text": [
      "Device set to use cuda:0\n"
     ]
    },
    {
     "name": "stdout",
     "output_type": "stream",
     "text": [
      "  Processing sample 18/20...\n"
     ]
    },
    {
     "name": "stderr",
     "output_type": "stream",
     "text": [
      "Device set to use cuda:0\n"
     ]
    },
    {
     "name": "stdout",
     "output_type": "stream",
     "text": [
      "  Processing sample 19/20...\n"
     ]
    },
    {
     "name": "stderr",
     "output_type": "stream",
     "text": [
      "Device set to use cuda:0\n"
     ]
    },
    {
     "name": "stdout",
     "output_type": "stream",
     "text": [
      "  Processing sample 20/20...\n"
     ]
    },
    {
     "name": "stderr",
     "output_type": "stream",
     "text": [
      "Device set to use cuda:0\n"
     ]
    },
    {
     "name": "stdout",
     "output_type": "stream",
     "text": [
      "\n",
      "🔬 Evaluating modality: XR\n",
      "  Processing sample 1/20...\n"
     ]
    },
    {
     "name": "stderr",
     "output_type": "stream",
     "text": [
      "Device set to use cuda:0\n"
     ]
    },
    {
     "name": "stdout",
     "output_type": "stream",
     "text": [
      "  Processing sample 2/20...\n"
     ]
    },
    {
     "name": "stderr",
     "output_type": "stream",
     "text": [
      "Device set to use cuda:0\n"
     ]
    },
    {
     "name": "stdout",
     "output_type": "stream",
     "text": [
      "  Processing sample 3/20...\n"
     ]
    },
    {
     "name": "stderr",
     "output_type": "stream",
     "text": [
      "Device set to use cuda:0\n"
     ]
    },
    {
     "name": "stdout",
     "output_type": "stream",
     "text": [
      "  Processing sample 4/20...\n"
     ]
    },
    {
     "name": "stderr",
     "output_type": "stream",
     "text": [
      "Device set to use cuda:0\n"
     ]
    },
    {
     "name": "stdout",
     "output_type": "stream",
     "text": [
      "  Processing sample 5/20...\n"
     ]
    },
    {
     "name": "stderr",
     "output_type": "stream",
     "text": [
      "Device set to use cuda:0\n"
     ]
    },
    {
     "name": "stdout",
     "output_type": "stream",
     "text": [
      "  Processing sample 6/20...\n"
     ]
    },
    {
     "name": "stderr",
     "output_type": "stream",
     "text": [
      "Device set to use cuda:0\n"
     ]
    },
    {
     "name": "stdout",
     "output_type": "stream",
     "text": [
      "  Processing sample 7/20...\n"
     ]
    },
    {
     "name": "stderr",
     "output_type": "stream",
     "text": [
      "Device set to use cuda:0\n"
     ]
    },
    {
     "name": "stdout",
     "output_type": "stream",
     "text": [
      "  Processing sample 8/20...\n"
     ]
    },
    {
     "name": "stderr",
     "output_type": "stream",
     "text": [
      "Device set to use cuda:0\n"
     ]
    },
    {
     "name": "stdout",
     "output_type": "stream",
     "text": [
      "  Processing sample 9/20...\n"
     ]
    },
    {
     "name": "stderr",
     "output_type": "stream",
     "text": [
      "Device set to use cuda:0\n"
     ]
    },
    {
     "name": "stdout",
     "output_type": "stream",
     "text": [
      "  Processing sample 10/20...\n"
     ]
    },
    {
     "name": "stderr",
     "output_type": "stream",
     "text": [
      "Device set to use cuda:0\n"
     ]
    },
    {
     "name": "stdout",
     "output_type": "stream",
     "text": [
      "  Processing sample 11/20...\n"
     ]
    },
    {
     "name": "stderr",
     "output_type": "stream",
     "text": [
      "Device set to use cuda:0\n"
     ]
    },
    {
     "name": "stdout",
     "output_type": "stream",
     "text": [
      "  Processing sample 12/20...\n"
     ]
    },
    {
     "name": "stderr",
     "output_type": "stream",
     "text": [
      "Device set to use cuda:0\n"
     ]
    },
    {
     "name": "stdout",
     "output_type": "stream",
     "text": [
      "  Processing sample 13/20...\n"
     ]
    },
    {
     "name": "stderr",
     "output_type": "stream",
     "text": [
      "Device set to use cuda:0\n"
     ]
    },
    {
     "name": "stdout",
     "output_type": "stream",
     "text": [
      "  Processing sample 14/20...\n"
     ]
    },
    {
     "name": "stderr",
     "output_type": "stream",
     "text": [
      "Device set to use cuda:0\n"
     ]
    },
    {
     "name": "stdout",
     "output_type": "stream",
     "text": [
      "  Processing sample 15/20...\n"
     ]
    },
    {
     "name": "stderr",
     "output_type": "stream",
     "text": [
      "Device set to use cuda:0\n"
     ]
    },
    {
     "name": "stdout",
     "output_type": "stream",
     "text": [
      "  Processing sample 16/20...\n"
     ]
    },
    {
     "name": "stderr",
     "output_type": "stream",
     "text": [
      "Device set to use cuda:0\n"
     ]
    },
    {
     "name": "stdout",
     "output_type": "stream",
     "text": [
      "  Processing sample 17/20...\n"
     ]
    },
    {
     "name": "stderr",
     "output_type": "stream",
     "text": [
      "Device set to use cuda:0\n"
     ]
    },
    {
     "name": "stdout",
     "output_type": "stream",
     "text": [
      "  Processing sample 18/20...\n"
     ]
    },
    {
     "name": "stderr",
     "output_type": "stream",
     "text": [
      "Device set to use cuda:0\n"
     ]
    },
    {
     "name": "stdout",
     "output_type": "stream",
     "text": [
      "  Processing sample 19/20...\n"
     ]
    },
    {
     "name": "stderr",
     "output_type": "stream",
     "text": [
      "Device set to use cuda:0\n"
     ]
    },
    {
     "name": "stdout",
     "output_type": "stream",
     "text": [
      "  Processing sample 20/20...\n"
     ]
    },
    {
     "name": "stderr",
     "output_type": "stream",
     "text": [
      "Device set to use cuda:0\n"
     ]
    },
    {
     "name": "stdout",
     "output_type": "stream",
     "text": [
      "\n",
      "🔬 Evaluating modality: CR\n",
      "  Processing sample 1/20...\n"
     ]
    },
    {
     "name": "stderr",
     "output_type": "stream",
     "text": [
      "Device set to use cuda:0\n"
     ]
    },
    {
     "name": "stdout",
     "output_type": "stream",
     "text": [
      "  Processing sample 2/20...\n"
     ]
    },
    {
     "name": "stderr",
     "output_type": "stream",
     "text": [
      "Device set to use cuda:0\n"
     ]
    },
    {
     "name": "stdout",
     "output_type": "stream",
     "text": [
      "  Processing sample 3/20...\n"
     ]
    },
    {
     "name": "stderr",
     "output_type": "stream",
     "text": [
      "Device set to use cuda:0\n"
     ]
    },
    {
     "name": "stdout",
     "output_type": "stream",
     "text": [
      "  Processing sample 4/20...\n"
     ]
    },
    {
     "name": "stderr",
     "output_type": "stream",
     "text": [
      "Device set to use cuda:0\n"
     ]
    },
    {
     "name": "stdout",
     "output_type": "stream",
     "text": [
      "  Processing sample 5/20...\n"
     ]
    },
    {
     "name": "stderr",
     "output_type": "stream",
     "text": [
      "Device set to use cuda:0\n"
     ]
    },
    {
     "name": "stdout",
     "output_type": "stream",
     "text": [
      "  Processing sample 6/20...\n"
     ]
    },
    {
     "name": "stderr",
     "output_type": "stream",
     "text": [
      "Device set to use cuda:0\n"
     ]
    },
    {
     "name": "stdout",
     "output_type": "stream",
     "text": [
      "  Processing sample 7/20...\n"
     ]
    },
    {
     "name": "stderr",
     "output_type": "stream",
     "text": [
      "Device set to use cuda:0\n"
     ]
    },
    {
     "name": "stdout",
     "output_type": "stream",
     "text": [
      "  Processing sample 8/20...\n"
     ]
    },
    {
     "name": "stderr",
     "output_type": "stream",
     "text": [
      "Device set to use cuda:0\n"
     ]
    },
    {
     "name": "stdout",
     "output_type": "stream",
     "text": [
      "  Processing sample 9/20...\n"
     ]
    },
    {
     "name": "stderr",
     "output_type": "stream",
     "text": [
      "Device set to use cuda:0\n"
     ]
    },
    {
     "name": "stdout",
     "output_type": "stream",
     "text": [
      "  Processing sample 10/20...\n"
     ]
    },
    {
     "name": "stderr",
     "output_type": "stream",
     "text": [
      "Device set to use cuda:0\n"
     ]
    },
    {
     "name": "stdout",
     "output_type": "stream",
     "text": [
      "  Processing sample 11/20...\n"
     ]
    },
    {
     "name": "stderr",
     "output_type": "stream",
     "text": [
      "Device set to use cuda:0\n"
     ]
    },
    {
     "name": "stdout",
     "output_type": "stream",
     "text": [
      "  Processing sample 12/20...\n"
     ]
    },
    {
     "name": "stderr",
     "output_type": "stream",
     "text": [
      "Device set to use cuda:0\n"
     ]
    },
    {
     "name": "stdout",
     "output_type": "stream",
     "text": [
      "  Processing sample 13/20...\n"
     ]
    },
    {
     "name": "stderr",
     "output_type": "stream",
     "text": [
      "Device set to use cuda:0\n"
     ]
    },
    {
     "name": "stdout",
     "output_type": "stream",
     "text": [
      "  Processing sample 14/20...\n"
     ]
    },
    {
     "name": "stderr",
     "output_type": "stream",
     "text": [
      "Device set to use cuda:0\n"
     ]
    },
    {
     "name": "stdout",
     "output_type": "stream",
     "text": [
      "  Processing sample 15/20...\n"
     ]
    },
    {
     "name": "stderr",
     "output_type": "stream",
     "text": [
      "Device set to use cuda:0\n"
     ]
    },
    {
     "name": "stdout",
     "output_type": "stream",
     "text": [
      "  Processing sample 16/20...\n"
     ]
    },
    {
     "name": "stderr",
     "output_type": "stream",
     "text": [
      "Device set to use cuda:0\n"
     ]
    },
    {
     "name": "stdout",
     "output_type": "stream",
     "text": [
      "  Processing sample 17/20...\n"
     ]
    },
    {
     "name": "stderr",
     "output_type": "stream",
     "text": [
      "Device set to use cuda:0\n"
     ]
    },
    {
     "name": "stdout",
     "output_type": "stream",
     "text": [
      "  Processing sample 18/20...\n"
     ]
    },
    {
     "name": "stderr",
     "output_type": "stream",
     "text": [
      "Device set to use cuda:0\n"
     ]
    },
    {
     "name": "stdout",
     "output_type": "stream",
     "text": [
      "  Processing sample 19/20...\n"
     ]
    },
    {
     "name": "stderr",
     "output_type": "stream",
     "text": [
      "Device set to use cuda:0\n"
     ]
    },
    {
     "name": "stdout",
     "output_type": "stream",
     "text": [
      "  Processing sample 20/20...\n"
     ]
    },
    {
     "name": "stderr",
     "output_type": "stream",
     "text": [
      "Device set to use cuda:0\n"
     ]
    },
    {
     "name": "stdout",
     "output_type": "stream",
     "text": [
      "\n",
      "🔬 Evaluating modality: US\n",
      "  Processing sample 1/20...\n"
     ]
    },
    {
     "name": "stderr",
     "output_type": "stream",
     "text": [
      "Device set to use cuda:0\n"
     ]
    },
    {
     "name": "stdout",
     "output_type": "stream",
     "text": [
      "  Processing sample 2/20...\n"
     ]
    },
    {
     "name": "stderr",
     "output_type": "stream",
     "text": [
      "Device set to use cuda:0\n"
     ]
    },
    {
     "name": "stdout",
     "output_type": "stream",
     "text": [
      "  Processing sample 3/20...\n"
     ]
    },
    {
     "name": "stderr",
     "output_type": "stream",
     "text": [
      "Device set to use cuda:0\n"
     ]
    },
    {
     "name": "stdout",
     "output_type": "stream",
     "text": [
      "  Processing sample 4/20...\n"
     ]
    },
    {
     "name": "stderr",
     "output_type": "stream",
     "text": [
      "Device set to use cuda:0\n"
     ]
    },
    {
     "name": "stdout",
     "output_type": "stream",
     "text": [
      "  Processing sample 5/20...\n"
     ]
    },
    {
     "name": "stderr",
     "output_type": "stream",
     "text": [
      "Device set to use cuda:0\n"
     ]
    },
    {
     "name": "stdout",
     "output_type": "stream",
     "text": [
      "  Processing sample 6/20...\n"
     ]
    },
    {
     "name": "stderr",
     "output_type": "stream",
     "text": [
      "Device set to use cuda:0\n"
     ]
    },
    {
     "name": "stdout",
     "output_type": "stream",
     "text": [
      "  Processing sample 7/20...\n"
     ]
    },
    {
     "name": "stderr",
     "output_type": "stream",
     "text": [
      "Device set to use cuda:0\n"
     ]
    },
    {
     "name": "stdout",
     "output_type": "stream",
     "text": [
      "  Processing sample 8/20...\n"
     ]
    },
    {
     "name": "stderr",
     "output_type": "stream",
     "text": [
      "Device set to use cuda:0\n"
     ]
    },
    {
     "name": "stdout",
     "output_type": "stream",
     "text": [
      "  Processing sample 9/20...\n"
     ]
    },
    {
     "name": "stderr",
     "output_type": "stream",
     "text": [
      "Device set to use cuda:0\n"
     ]
    },
    {
     "name": "stdout",
     "output_type": "stream",
     "text": [
      "  Processing sample 10/20...\n"
     ]
    },
    {
     "name": "stderr",
     "output_type": "stream",
     "text": [
      "Device set to use cuda:0\n"
     ]
    },
    {
     "name": "stdout",
     "output_type": "stream",
     "text": [
      "  Processing sample 11/20...\n"
     ]
    },
    {
     "name": "stderr",
     "output_type": "stream",
     "text": [
      "Device set to use cuda:0\n"
     ]
    },
    {
     "name": "stdout",
     "output_type": "stream",
     "text": [
      "  Processing sample 12/20...\n"
     ]
    },
    {
     "name": "stderr",
     "output_type": "stream",
     "text": [
      "Device set to use cuda:0\n"
     ]
    },
    {
     "name": "stdout",
     "output_type": "stream",
     "text": [
      "  Processing sample 13/20...\n"
     ]
    },
    {
     "name": "stderr",
     "output_type": "stream",
     "text": [
      "Device set to use cuda:0\n"
     ]
    },
    {
     "name": "stdout",
     "output_type": "stream",
     "text": [
      "  Processing sample 14/20...\n"
     ]
    },
    {
     "name": "stderr",
     "output_type": "stream",
     "text": [
      "Device set to use cuda:0\n"
     ]
    },
    {
     "name": "stdout",
     "output_type": "stream",
     "text": [
      "  Processing sample 15/20...\n"
     ]
    },
    {
     "name": "stderr",
     "output_type": "stream",
     "text": [
      "Device set to use cuda:0\n"
     ]
    },
    {
     "name": "stdout",
     "output_type": "stream",
     "text": [
      "  Processing sample 16/20...\n"
     ]
    },
    {
     "name": "stderr",
     "output_type": "stream",
     "text": [
      "Device set to use cuda:0\n"
     ]
    },
    {
     "name": "stdout",
     "output_type": "stream",
     "text": [
      "  Processing sample 17/20...\n"
     ]
    },
    {
     "name": "stderr",
     "output_type": "stream",
     "text": [
      "Device set to use cuda:0\n"
     ]
    },
    {
     "name": "stdout",
     "output_type": "stream",
     "text": [
      "  Processing sample 18/20...\n"
     ]
    },
    {
     "name": "stderr",
     "output_type": "stream",
     "text": [
      "Device set to use cuda:0\n"
     ]
    },
    {
     "name": "stdout",
     "output_type": "stream",
     "text": [
      "  Processing sample 19/20...\n"
     ]
    },
    {
     "name": "stderr",
     "output_type": "stream",
     "text": [
      "Device set to use cuda:0\n"
     ]
    },
    {
     "name": "stdout",
     "output_type": "stream",
     "text": [
      "  Processing sample 20/20...\n"
     ]
    },
    {
     "name": "stderr",
     "output_type": "stream",
     "text": [
      "Device set to use cuda:0\n"
     ]
    },
    {
     "name": "stdout",
     "output_type": "stream",
     "text": [
      "\n",
      "🔬 Evaluating modality: NM\n",
      "  Processing sample 1/16...\n"
     ]
    },
    {
     "name": "stderr",
     "output_type": "stream",
     "text": [
      "Device set to use cuda:0\n"
     ]
    },
    {
     "name": "stdout",
     "output_type": "stream",
     "text": [
      "  Processing sample 2/16...\n"
     ]
    },
    {
     "name": "stderr",
     "output_type": "stream",
     "text": [
      "Device set to use cuda:0\n"
     ]
    },
    {
     "name": "stdout",
     "output_type": "stream",
     "text": [
      "  Processing sample 3/16...\n"
     ]
    },
    {
     "name": "stderr",
     "output_type": "stream",
     "text": [
      "Device set to use cuda:0\n"
     ]
    },
    {
     "name": "stdout",
     "output_type": "stream",
     "text": [
      "  Processing sample 4/16...\n"
     ]
    },
    {
     "name": "stderr",
     "output_type": "stream",
     "text": [
      "Device set to use cuda:0\n"
     ]
    },
    {
     "name": "stdout",
     "output_type": "stream",
     "text": [
      "  Processing sample 5/16...\n"
     ]
    },
    {
     "name": "stderr",
     "output_type": "stream",
     "text": [
      "Device set to use cuda:0\n"
     ]
    },
    {
     "name": "stdout",
     "output_type": "stream",
     "text": [
      "  Processing sample 6/16...\n"
     ]
    },
    {
     "name": "stderr",
     "output_type": "stream",
     "text": [
      "Device set to use cuda:0\n"
     ]
    },
    {
     "name": "stdout",
     "output_type": "stream",
     "text": [
      "  Processing sample 7/16...\n"
     ]
    },
    {
     "name": "stderr",
     "output_type": "stream",
     "text": [
      "Device set to use cuda:0\n"
     ]
    },
    {
     "name": "stdout",
     "output_type": "stream",
     "text": [
      "  Processing sample 8/16...\n"
     ]
    },
    {
     "name": "stderr",
     "output_type": "stream",
     "text": [
      "Device set to use cuda:0\n"
     ]
    },
    {
     "name": "stdout",
     "output_type": "stream",
     "text": [
      "  Processing sample 9/16...\n"
     ]
    },
    {
     "name": "stderr",
     "output_type": "stream",
     "text": [
      "Device set to use cuda:0\n"
     ]
    },
    {
     "name": "stdout",
     "output_type": "stream",
     "text": [
      "  Processing sample 10/16...\n"
     ]
    },
    {
     "name": "stderr",
     "output_type": "stream",
     "text": [
      "Device set to use cuda:0\n"
     ]
    },
    {
     "name": "stdout",
     "output_type": "stream",
     "text": [
      "  Processing sample 11/16...\n"
     ]
    },
    {
     "name": "stderr",
     "output_type": "stream",
     "text": [
      "Device set to use cuda:0\n"
     ]
    },
    {
     "name": "stdout",
     "output_type": "stream",
     "text": [
      "  Processing sample 12/16...\n"
     ]
    },
    {
     "name": "stderr",
     "output_type": "stream",
     "text": [
      "Device set to use cuda:0\n"
     ]
    },
    {
     "name": "stdout",
     "output_type": "stream",
     "text": [
      "  Processing sample 13/16...\n"
     ]
    },
    {
     "name": "stderr",
     "output_type": "stream",
     "text": [
      "Device set to use cuda:0\n"
     ]
    },
    {
     "name": "stdout",
     "output_type": "stream",
     "text": [
      "  Processing sample 14/16...\n"
     ]
    },
    {
     "name": "stderr",
     "output_type": "stream",
     "text": [
      "Device set to use cuda:0\n"
     ]
    },
    {
     "name": "stdout",
     "output_type": "stream",
     "text": [
      "  Processing sample 15/16...\n"
     ]
    },
    {
     "name": "stderr",
     "output_type": "stream",
     "text": [
      "Device set to use cuda:0\n"
     ]
    },
    {
     "name": "stdout",
     "output_type": "stream",
     "text": [
      "  Processing sample 16/16...\n"
     ]
    },
    {
     "name": "stderr",
     "output_type": "stream",
     "text": [
      "Device set to use cuda:0\n"
     ]
    },
    {
     "name": "stdout",
     "output_type": "stream",
     "text": [
      "\n",
      "🔬 Evaluating modality: nan\n",
      "  Processing sample 1/20...\n"
     ]
    },
    {
     "name": "stderr",
     "output_type": "stream",
     "text": [
      "Device set to use cuda:0\n"
     ]
    },
    {
     "name": "stdout",
     "output_type": "stream",
     "text": [
      "  Processing sample 2/20...\n"
     ]
    },
    {
     "name": "stderr",
     "output_type": "stream",
     "text": [
      "Device set to use cuda:0\n"
     ]
    },
    {
     "name": "stdout",
     "output_type": "stream",
     "text": [
      "  Processing sample 3/20...\n"
     ]
    },
    {
     "name": "stderr",
     "output_type": "stream",
     "text": [
      "Device set to use cuda:0\n"
     ]
    },
    {
     "name": "stdout",
     "output_type": "stream",
     "text": [
      "  Processing sample 4/20...\n"
     ]
    },
    {
     "name": "stderr",
     "output_type": "stream",
     "text": [
      "Device set to use cuda:0\n"
     ]
    },
    {
     "name": "stdout",
     "output_type": "stream",
     "text": [
      "  Processing sample 5/20...\n"
     ]
    },
    {
     "name": "stderr",
     "output_type": "stream",
     "text": [
      "Device set to use cuda:0\n"
     ]
    },
    {
     "name": "stdout",
     "output_type": "stream",
     "text": [
      "  Processing sample 6/20...\n"
     ]
    },
    {
     "name": "stderr",
     "output_type": "stream",
     "text": [
      "Device set to use cuda:0\n"
     ]
    },
    {
     "name": "stdout",
     "output_type": "stream",
     "text": [
      "  Processing sample 7/20...\n"
     ]
    },
    {
     "name": "stderr",
     "output_type": "stream",
     "text": [
      "Device set to use cuda:0\n"
     ]
    },
    {
     "name": "stdout",
     "output_type": "stream",
     "text": [
      "  Processing sample 8/20...\n"
     ]
    },
    {
     "name": "stderr",
     "output_type": "stream",
     "text": [
      "Device set to use cuda:0\n"
     ]
    },
    {
     "name": "stdout",
     "output_type": "stream",
     "text": [
      "  Processing sample 9/20...\n"
     ]
    },
    {
     "name": "stderr",
     "output_type": "stream",
     "text": [
      "Device set to use cuda:0\n"
     ]
    },
    {
     "name": "stdout",
     "output_type": "stream",
     "text": [
      "  Processing sample 10/20...\n"
     ]
    },
    {
     "name": "stderr",
     "output_type": "stream",
     "text": [
      "Device set to use cuda:0\n"
     ]
    },
    {
     "name": "stdout",
     "output_type": "stream",
     "text": [
      "  Processing sample 11/20...\n"
     ]
    },
    {
     "name": "stderr",
     "output_type": "stream",
     "text": [
      "Device set to use cuda:0\n"
     ]
    },
    {
     "name": "stdout",
     "output_type": "stream",
     "text": [
      "  Processing sample 12/20...\n"
     ]
    },
    {
     "name": "stderr",
     "output_type": "stream",
     "text": [
      "Device set to use cuda:0\n"
     ]
    },
    {
     "name": "stdout",
     "output_type": "stream",
     "text": [
      "  Processing sample 13/20...\n"
     ]
    },
    {
     "name": "stderr",
     "output_type": "stream",
     "text": [
      "Device set to use cuda:0\n"
     ]
    },
    {
     "name": "stdout",
     "output_type": "stream",
     "text": [
      "  Processing sample 14/20...\n"
     ]
    },
    {
     "name": "stderr",
     "output_type": "stream",
     "text": [
      "Device set to use cuda:0\n"
     ]
    },
    {
     "name": "stdout",
     "output_type": "stream",
     "text": [
      "  Processing sample 15/20...\n"
     ]
    },
    {
     "name": "stderr",
     "output_type": "stream",
     "text": [
      "Device set to use cuda:0\n"
     ]
    },
    {
     "name": "stdout",
     "output_type": "stream",
     "text": [
      "  Processing sample 16/20...\n"
     ]
    },
    {
     "name": "stderr",
     "output_type": "stream",
     "text": [
      "Device set to use cuda:0\n"
     ]
    },
    {
     "name": "stdout",
     "output_type": "stream",
     "text": [
      "  Processing sample 17/20...\n"
     ]
    },
    {
     "name": "stderr",
     "output_type": "stream",
     "text": [
      "Device set to use cuda:0\n"
     ]
    },
    {
     "name": "stdout",
     "output_type": "stream",
     "text": [
      "  Processing sample 18/20...\n"
     ]
    },
    {
     "name": "stderr",
     "output_type": "stream",
     "text": [
      "Device set to use cuda:0\n"
     ]
    },
    {
     "name": "stdout",
     "output_type": "stream",
     "text": [
      "  Processing sample 19/20...\n"
     ]
    },
    {
     "name": "stderr",
     "output_type": "stream",
     "text": [
      "Device set to use cuda:0\n"
     ]
    },
    {
     "name": "stdout",
     "output_type": "stream",
     "text": [
      "  Processing sample 20/20...\n"
     ]
    },
    {
     "name": "stderr",
     "output_type": "stream",
     "text": [
      "Device set to use cuda:0\n"
     ]
    },
    {
     "name": "stdout",
     "output_type": "stream",
     "text": [
      "\n",
      "🔬 Evaluating modality: OTHER\n",
      "  Processing sample 1/2...\n"
     ]
    },
    {
     "name": "stderr",
     "output_type": "stream",
     "text": [
      "Device set to use cuda:0\n"
     ]
    },
    {
     "name": "stdout",
     "output_type": "stream",
     "text": [
      "  Processing sample 2/2...\n",
      "\n",
      "================================================================================\n",
      "📊 SYSTEMATIC EVALUATION REPORT\n",
      "================================================================================\n",
      "\n",
      "🔬 MODALITY-BASED PERFORMANCE\n",
      "--------------------------------------------------\n",
      "       sample_count  rouge1_mean  rouge2_mean  rougeL_mean\n",
      "MR             20.0       0.6274       0.4963       0.5641\n",
      "CT             20.0       0.2978       0.1396       0.2589\n",
      "XR             20.0       0.3812       0.2998       0.3754\n",
      "CR             20.0       0.3970       0.2640       0.3743\n",
      "US             20.0       0.3394       0.1714       0.3048\n",
      "NM             16.0       0.2872       0.1666       0.2479\n",
      "nan            20.0       0.5655       0.4341       0.4773\n",
      "OTHER           2.0       0.2276       0.0566       0.1411\n",
      "\n",
      "📈 OVERALL PERFORMANCE\n",
      "------------------------------\n",
      "Total samples evaluated: 138\n",
      "Average ROUGE-1: 0.4146\n",
      "Average ROUGE-2: 0.2818\n",
      "Average ROUGE-L: 0.3720\n",
      "\n",
      "🏆 Best performing modality: MR (ROUGE-1: 0.6274)\n",
      "⚠️  Lowest performing modality: OTHER (ROUGE-1: 0.2276)\n",
      "\n",
      "💾 Results saved to systematic_evaluation_results.json\n"
     ]
    }
   ],
   "source": [
    "evaluator = ModalityBasedEvaluator()\n",
    "# Show dataset distribution\n",
    "print(\"\\n📊 Dataset Distribution:\")\n",
    "print(evaluator.get_modality_distribution())\n",
    "\n",
    "# Run systematic evaluation\n",
    "print(\"\\n🚀 Starting systematic evaluation...\")\n",
    "modality_results = evaluator.evaluate_by_modality(samples_per_modality=20)\n",
    "\n",
    "# Generate report\n",
    "final_results = evaluator.generate_evaluation_report(modality_results)\n",
    "\n",
    "# Save results\n",
    "evaluator.save_results(final_results)"
   ]
  },
  {
   "cell_type": "code",
   "execution_count": null,
   "id": "60974ca5-1620-45d6-bccd-508194a11764",
   "metadata": {},
   "outputs": [],
   "source": []
  }
 ],
 "metadata": {
  "kernelspec": {
   "display_name": "Python 3 (ipykernel)",
   "language": "python",
   "name": "python3"
  },
  "language_info": {
   "codemirror_mode": {
    "name": "ipython",
    "version": 3
   },
   "file_extension": ".py",
   "mimetype": "text/x-python",
   "name": "python",
   "nbconvert_exporter": "python",
   "pygments_lexer": "ipython3",
   "version": "3.11.11"
  }
 },
 "nbformat": 4,
 "nbformat_minor": 5
}
